{
 "cells": [
  {
   "cell_type": "markdown",
   "id": "b68678c2-80ad-4ed9-806a-c8372100c894",
   "metadata": {},
   "source": [
    "# Refactor DVC y MLflow\n",
    "\n",
    "Este refactor crea funciones para el proceso de entrenar un modelo de ML de forma que este flujo puede usarse con dvc a traves de `dvc.yaml` y el comando `dvc repro`, asi como tambien podrian ser parte de un flujo con MLflow"
   ]
  },
  {
   "cell_type": "code",
   "execution_count": 17,
   "id": "e1e6428e-6ba6-4572-8e15-98cf9b86ebb9",
   "metadata": {},
   "outputs": [
    {
     "name": "stdout",
     "output_type": "stream",
     "text": [
      "Running stage '../dvc.yaml:data_load':                                core\u001b[39m>\n",
      "> python src/stages/data_load.py --config=params.yaml\n",
      "Number of features in dataset: 32\n",
      "Shape of initial dataset (145, 32)\n",
      "Done saving artifacts\n",
      "                                                                                \n",
      "Running stage '../dvc.yaml:data_split':\n",
      "> python src/stages/data_split.py --config=params.yaml\n",
      "Splitting dataset into train and test-val dataset - 0.7 train proportion\n",
      "Splitting test-val dataset into test and validation dataset - 0.5 val proportion with respect to test\n",
      "Done saving artifacts\n",
      "                                                                                \n",
      "Running stage '../dvc.yaml:features_transform':\n",
      "> python src/stages/features_transform.py --config=params.yaml\n",
      "finish transformations\n",
      "shapes for train -> (101, 63)\n",
      "shapes for test -> (22, 63)\n",
      "shapes for val -> (22, 63)\n",
      "Done saving artifacts\n",
      "                                                                                \n",
      "Running stage '../dvc.yaml:train':\n",
      "> python src/stages/train_model.py --config=params.yaml\n",
      "Training model SGP with {'n_estimators': 100, 'max_depth': 6, 'random_state': 12}\n",
      "Model saved\n",
      "                                                                                \n",
      "Running stage '../dvc.yaml:evaluate':\n",
      "> python src/stages/evaluate.py --config=params.yaml\n",
      "SUPER IMPORTANTES tipo de df_test <class 'pandas.core.frame.DataFrame'>\n",
      "tipo de X_test <class 'pandas.core.frame.DataFrame'>\n",
      "tipo de y_test <class 'pandas.core.frame.DataFrame'>\n",
      "COLUMNAS -> Index(['62'], dtype='object')\n",
      "Accuracy = 0.45454545454545453\n",
      "MSE = 5.590909090909091\n",
      "RMSE = 2.364510327934537\n",
      "Metrics saved\n",
      "Use `dvc push` to send your updates to remote storage.                          \n",
      "\u001b[0m"
     ]
    }
   ],
   "source": [
    "! dvc repro ../dvc.yaml -f"
   ]
  },
  {
   "cell_type": "code",
   "execution_count": 18,
   "id": "8bb7df30-f3be-431e-9c77-b212beb33165",
   "metadata": {},
   "outputs": [
    {
     "name": "stdout",
     "output_type": "stream",
     "text": [
      "The autoreload extension is already loaded. To reload it, use:\n",
      "  %reload_ext autoreload\n"
     ]
    }
   ],
   "source": [
    "%load_ext autoreload\n",
    "%autoreload 2"
   ]
  },
  {
   "cell_type": "code",
   "execution_count": 19,
   "id": "e1ab0f58-3cb5-42c4-8bfc-63962367b14f",
   "metadata": {},
   "outputs": [],
   "source": [
    "from src.stages.data_load import load_data\n",
    "from src.stages.data_split import split_data\n",
    "from src.stages.features_transform import features_transform\n",
    "from src.stages.train_model import train_model\n",
    "from src.stages.evaluate import evaluate_model"
   ]
  },
  {
   "cell_type": "code",
   "execution_count": 20,
   "id": "b299f44a-52d4-4579-917a-aa803b79e7f3",
   "metadata": {},
   "outputs": [],
   "source": [
    "from src.utils import read_config_params\n",
    "\n",
    "config_params = read_config_params(\"../params.yaml\")"
   ]
  },
  {
   "cell_type": "code",
   "execution_count": 21,
   "id": "f78c6e51-1164-4473-b6fe-c954d2f9576c",
   "metadata": {},
   "outputs": [
    {
     "name": "stdout",
     "output_type": "stream",
     "text": [
      "Number of features in dataset: 32\n",
      "Shape of initial dataset (145, 32)\n"
     ]
    }
   ],
   "source": [
    "data = load_data()"
   ]
  },
  {
   "cell_type": "code",
   "execution_count": 22,
   "id": "863f52b2-8eaf-4e80-9636-f4edfa616a22",
   "metadata": {},
   "outputs": [
    {
     "name": "stdout",
     "output_type": "stream",
     "text": [
      "Splitting dataset into train and test-val dataset - 0.7 train proportion\n",
      "Splitting test-val dataset into test and validation dataset - 0.5 val proportion with respect to test\n"
     ]
    }
   ],
   "source": [
    "df_train, df_test, df_val = split_data(config_params, data)"
   ]
  },
  {
   "cell_type": "code",
   "execution_count": 23,
   "id": "2f5f7426-67cb-4224-b5e8-fc6f5c6dd572",
   "metadata": {},
   "outputs": [
    {
     "name": "stdout",
     "output_type": "stream",
     "text": [
      "finish transformations\n",
      "shapes for train -> (101, 63)\n",
      "shapes for test -> (22, 63)\n",
      "shapes for val -> (22, 63)\n"
     ]
    }
   ],
   "source": [
    "df_train, df_test, df_val = features_transform(df_train, df_test, df_val)"
   ]
  },
  {
   "cell_type": "code",
   "execution_count": 24,
   "id": "3d84a497-d2cc-4b7c-bba2-024649388131",
   "metadata": {},
   "outputs": [
    {
     "name": "stdout",
     "output_type": "stream",
     "text": [
      "Training model SGP with {'n_estimators': 100, 'max_depth': 6, 'random_state': 12}\n"
     ]
    }
   ],
   "source": [
    "model, _ = train_model(config_params, df_train)"
   ]
  },
  {
   "cell_type": "code",
   "execution_count": 25,
   "id": "c3b7300b-e213-4469-b8b7-a1d91d4612a3",
   "metadata": {},
   "outputs": [
    {
     "name": "stdout",
     "output_type": "stream",
     "text": [
      "SUPER IMPORTANTES tipo de df_test <class 'pandas.core.frame.DataFrame'>\n",
      "tipo de X_test <class 'pandas.core.frame.DataFrame'>\n",
      "tipo de y_test <class 'pandas.core.frame.DataFrame'>\n",
      "COLUMNAS -> Index(['62'], dtype='object')\n",
      "Accuracy = 0.45454545454545453\n",
      "MSE = 5.590909090909091\n",
      "RMSE = 2.364510327934537\n",
      "{'accuracy': 0.45454545454545453, 'mse': np.float64(5.590909090909091), 'rmse': np.float64(2.364510327934537)}\n"
     ]
    },
    {
     "name": "stderr",
     "output_type": "stream",
     "text": [
      "/home/marcela/repos/mna_mlops_equipo39/venv/lib/python3.12/site-packages/sklearn/base.py:486: UserWarning: X has feature names, but RandomForestClassifier was fitted without feature names\n",
      "  warnings.warn(\n"
     ]
    }
   ],
   "source": [
    "metrics, disp = evaluate_model(config_params, df_test, model)\n",
    "\n",
    "print(metrics)"
   ]
  },
  {
   "cell_type": "code",
   "execution_count": 26,
   "id": "bad4da54-5806-40b6-bcdf-01b0f951cfcc",
   "metadata": {},
   "outputs": [
    {
     "data": {
      "text/plain": [
       "<sklearn.metrics._plot.confusion_matrix.ConfusionMatrixDisplay at 0x7249ca361d00>"
      ]
     },
     "execution_count": 26,
     "metadata": {},
     "output_type": "execute_result"
    },
    {
     "data": {
      "image/png": "[encoded data removed]",
      "text/plain": [
       "<Figure size 640x480 with 2 Axes>"
      ]
     },
     "metadata": {},
     "output_type": "display_data"
    }
   ],
   "source": [
    "disp.plot(cmap=\"Blues\")"
   ]
  },
  {
   "cell_type": "code",
   "execution_count": null,
   "id": "1392e07b-c1f8-41bd-b566-780b6a5ca043",
   "metadata": {},
   "outputs": [],
   "source": []
  }
 ],
 "metadata": {
  "kernelspec": {
   "display_name": "Python 3 (ipykernel)",
   "language": "python",
   "name": "python3"
  },
  "language_info": {
   "codemirror_mode": {
    "name": "ipython",
    "version": 3
   },
   "file_extension": ".py",
   "mimetype": "text/x-python",
   "name": "python",
   "nbconvert_exporter": "python",
   "pygments_lexer": "ipython3",
   "version": "3.12.3"
  }
 },
 "nbformat": 4,
 "nbformat_minor": 5
}

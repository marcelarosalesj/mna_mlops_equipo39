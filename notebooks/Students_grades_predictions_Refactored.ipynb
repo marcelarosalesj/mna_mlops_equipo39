{
  "cells": [
    {
      "cell_type": "code",
      "execution_count": 1,
      "metadata": {
        "colab": {
          "base_uri": "https://localhost:8080/"
        },
        "id": "_0euCLPjGsHK",
        "outputId": "a0bdf891-2780-4636-e8e0-bb695d4e97cd"
      },
      "outputs": [
        {
          "name": "stdout",
          "output_type": "stream",
          "text": [
            "Collecting ucimlrepo\n",
            "  Downloading ucimlrepo-0.0.7-py3-none-any.whl.metadata (5.5 kB)\n",
            "Requirement already satisfied: pandas>=1.0.0 in c:\\users\\user\\appdata\\local\\programs\\python\\python310\\lib\\site-packages (from ucimlrepo) (2.1.4)\n",
            "Requirement already satisfied: certifi>=2020.12.5 in c:\\users\\user\\appdata\\local\\programs\\python\\python310\\lib\\site-packages (from ucimlrepo) (2024.8.30)\n",
            "Requirement already satisfied: numpy<2,>=1.22.4 in c:\\users\\user\\appdata\\local\\programs\\python\\python310\\lib\\site-packages (from pandas>=1.0.0->ucimlrepo) (1.26.2)\n",
            "Requirement already satisfied: python-dateutil>=2.8.2 in c:\\users\\user\\appdata\\local\\programs\\python\\python310\\lib\\site-packages (from pandas>=1.0.0->ucimlrepo) (2.9.0.post0)\n",
            "Requirement already satisfied: pytz>=2020.1 in c:\\users\\user\\appdata\\local\\programs\\python\\python310\\lib\\site-packages (from pandas>=1.0.0->ucimlrepo) (2024.2)\n",
            "Requirement already satisfied: tzdata>=2022.1 in c:\\users\\user\\appdata\\local\\programs\\python\\python310\\lib\\site-packages (from pandas>=1.0.0->ucimlrepo) (2024.1)\n",
            "Requirement already satisfied: six>=1.5 in c:\\users\\user\\appdata\\local\\programs\\python\\python310\\lib\\site-packages (from python-dateutil>=2.8.2->pandas>=1.0.0->ucimlrepo) (1.16.0)\n",
            "Downloading ucimlrepo-0.0.7-py3-none-any.whl (8.0 kB)\n",
            "Installing collected packages: ucimlrepo\n",
            "Successfully installed ucimlrepo-0.0.7\n"
          ]
        }
      ],
      "source": [
        "!pip install ucimlrepo"
      ]
    },
    {
      "cell_type": "code",
      "execution_count": 3,
      "metadata": {},
      "outputs": [
        {
          "name": "stdout",
          "output_type": "stream",
          "text": [
            "Collecting seaborn\n",
            "  Downloading seaborn-0.13.2-py3-none-any.whl.metadata (5.4 kB)\n",
            "Requirement already satisfied: numpy!=1.24.0,>=1.20 in c:\\users\\user\\appdata\\local\\programs\\python\\python310\\lib\\site-packages (from seaborn) (1.26.2)\n",
            "Requirement already satisfied: pandas>=1.2 in c:\\users\\user\\appdata\\local\\programs\\python\\python310\\lib\\site-packages (from seaborn) (2.1.4)\n",
            "Requirement already satisfied: matplotlib!=3.6.1,>=3.4 in c:\\users\\user\\appdata\\local\\programs\\python\\python310\\lib\\site-packages (from seaborn) (3.9.2)\n",
            "Requirement already satisfied: contourpy>=1.0.1 in c:\\users\\user\\appdata\\local\\programs\\python\\python310\\lib\\site-packages (from matplotlib!=3.6.1,>=3.4->seaborn) (1.3.0)\n",
            "Requirement already satisfied: cycler>=0.10 in c:\\users\\user\\appdata\\local\\programs\\python\\python310\\lib\\site-packages (from matplotlib!=3.6.1,>=3.4->seaborn) (0.12.1)\n",
            "Requirement already satisfied: fonttools>=4.22.0 in c:\\users\\user\\appdata\\local\\programs\\python\\python310\\lib\\site-packages (from matplotlib!=3.6.1,>=3.4->seaborn) (4.53.1)\n",
            "Requirement already satisfied: kiwisolver>=1.3.1 in c:\\users\\user\\appdata\\local\\programs\\python\\python310\\lib\\site-packages (from matplotlib!=3.6.1,>=3.4->seaborn) (1.4.7)\n",
            "Requirement already satisfied: packaging>=20.0 in c:\\users\\user\\appdata\\local\\programs\\python\\python310\\lib\\site-packages (from matplotlib!=3.6.1,>=3.4->seaborn) (24.1)\n",
            "Requirement already satisfied: pillow>=8 in c:\\users\\user\\appdata\\local\\programs\\python\\python310\\lib\\site-packages (from matplotlib!=3.6.1,>=3.4->seaborn) (10.4.0)\n",
            "Requirement already satisfied: pyparsing>=2.3.1 in c:\\users\\user\\appdata\\local\\programs\\python\\python310\\lib\\site-packages (from matplotlib!=3.6.1,>=3.4->seaborn) (3.1.4)\n",
            "Requirement already satisfied: python-dateutil>=2.7 in c:\\users\\user\\appdata\\local\\programs\\python\\python310\\lib\\site-packages (from matplotlib!=3.6.1,>=3.4->seaborn) (2.9.0.post0)\n",
            "Requirement already satisfied: pytz>=2020.1 in c:\\users\\user\\appdata\\local\\programs\\python\\python310\\lib\\site-packages (from pandas>=1.2->seaborn) (2024.2)\n",
            "Requirement already satisfied: tzdata>=2022.1 in c:\\users\\user\\appdata\\local\\programs\\python\\python310\\lib\\site-packages (from pandas>=1.2->seaborn) (2024.1)\n",
            "Requirement already satisfied: six>=1.5 in c:\\users\\user\\appdata\\local\\programs\\python\\python310\\lib\\site-packages (from python-dateutil>=2.7->matplotlib!=3.6.1,>=3.4->seaborn) (1.16.0)\n",
            "Downloading seaborn-0.13.2-py3-none-any.whl (294 kB)\n",
            "Installing collected packages: seaborn\n",
            "Successfully installed seaborn-0.13.2\n",
            "Note: you may need to restart the kernel to use updated packages.\n"
          ]
        }
      ],
      "source": [
        "pip install seaborn"
      ]
    },
    {
      "cell_type": "code",
      "execution_count": 5,
      "metadata": {},
      "outputs": [
        {
          "name": "stdout",
          "output_type": "stream",
          "text": [
            "Collecting imblearn\n",
            "  Downloading imblearn-0.0-py2.py3-none-any.whl.metadata (355 bytes)\n",
            "Collecting imbalanced-learn (from imblearn)\n",
            "  Downloading imbalanced_learn-0.12.4-py3-none-any.whl.metadata (8.3 kB)\n",
            "Requirement already satisfied: numpy>=1.17.3 in c:\\users\\user\\appdata\\local\\programs\\python\\python310\\lib\\site-packages (from imbalanced-learn->imblearn) (1.26.2)\n",
            "Requirement already satisfied: scipy>=1.5.0 in c:\\users\\user\\appdata\\local\\programs\\python\\python310\\lib\\site-packages (from imbalanced-learn->imblearn) (1.10.1)\n",
            "Requirement already satisfied: scikit-learn>=1.0.2 in c:\\users\\user\\appdata\\local\\programs\\python\\python310\\lib\\site-packages (from imbalanced-learn->imblearn) (1.3.2)\n",
            "Requirement already satisfied: joblib>=1.1.1 in c:\\users\\user\\appdata\\local\\programs\\python\\python310\\lib\\site-packages (from imbalanced-learn->imblearn) (1.4.2)\n",
            "Requirement already satisfied: threadpoolctl>=2.0.0 in c:\\users\\user\\appdata\\local\\programs\\python\\python310\\lib\\site-packages (from imbalanced-learn->imblearn) (3.5.0)\n",
            "Downloading imblearn-0.0-py2.py3-none-any.whl (1.9 kB)\n",
            "Downloading imbalanced_learn-0.12.4-py3-none-any.whl (258 kB)\n",
            "Installing collected packages: imbalanced-learn, imblearn\n",
            "Successfully installed imbalanced-learn-0.12.4 imblearn-0.0\n",
            "Note: you may need to restart the kernel to use updated packages.\n"
          ]
        }
      ],
      "source": [
        "pip install imblearn"
      ]
    },
    {
      "cell_type": "code",
      "execution_count": 76,
      "metadata": {},
      "outputs": [],
      "source": [
        "import time\n",
        "import uuid"
      ]
    },
    {
      "cell_type": "code",
      "execution_count": 6,
      "metadata": {
        "id": "LdmEPPI6G0BI"
      },
      "outputs": [],
      "source": [
        "import os          #funciones para interactuar con el sistema operativo\n",
        "import numpy as np\n",
        "import pandas as pd\n",
        "from ucimlrepo import fetch_ucirepo #Nos deja acceder a un repositorio de datasets de UCI Machine Learning Repository para descargar datos\n",
        "\n",
        "import yaml #archivos en formato YAML\n",
        "\n",
        "\n",
        "import matplotlib.pyplot as plt\n",
        "import seaborn as sns\n",
        "\n",
        "# Librerias para preprocesamiento e ing de caracteristicas\n",
        "from sklearn.impute import SimpleImputer\n",
        "from sklearn.preprocessing import MinMaxScaler, OneHotEncoder, LabelEncoder, OrdinalEncoder\n",
        "from scipy.stats import boxcox\n",
        "from sklearn.preprocessing import PowerTransformer, power_transform\n",
        "\n",
        "# Librerias para la canalizacion\n",
        "from sklearn.compose import ColumnTransformer, make_column_selector\n",
        "from sklearn.pipeline import make_pipeline\n",
        "from sklearn.pipeline import Pipeline\n",
        "from imblearn.pipeline import Pipeline as imblearnPipeline\n",
        "\n",
        "# Librerias para la regresion\n",
        "from sklearn.linear_model import LinearRegression\n",
        "from sklearn.metrics import mean_squared_error, r2_score\n",
        "from sklearn.linear_model import LogisticRegression\n",
        "from sklearn.neighbors import KNeighborsClassifier\n",
        "from sklearn.tree import DecisionTreeClassifier\n",
        "from sklearn.ensemble import RandomForestClassifier\n",
        "\n",
        "from sklearn.preprocessing import PolynomialFeatures\n",
        "from sklearn.model_selection import train_test_split\n",
        "from sklearn.neighbors import KNeighborsClassifier\n",
        "from sklearn.metrics import confusion_matrix\n",
        "\n",
        "from sklearn.model_selection import GridSearchCV\n",
        "from sklearn.model_selection import RandomizedSearchCV\n",
        "\n",
        "from sklearn.preprocessing import FunctionTransformer\n",
        "from sklearn.metrics import f1_score\n",
        "from sklearn.metrics import confusion_matrix, precision_score, recall_score, accuracy_score\n",
        "from sklearn.model_selection import learning_curve\n",
        "from sklearn import metrics\n",
        "\n",
        "from imblearn.over_sampling import BorderlineSMOTE\n",
        "from imblearn.over_sampling import SMOTE\n",
        "from sklearn.inspection import permutation_importance\n",
        "\n",
        "from sklearn.metrics import ConfusionMatrixDisplay, classification_report\n",
        "from sklearn.model_selection import cross_val_score\n",
        "\n",
        "import mlflow\n",
        "import mlflow.sklearn\n",
        "from mlflow import MlflowClient\n",
        "from mlflow.models.signature import infer_signature"
      ]
    },
    {
      "cell_type": "code",
      "execution_count": 9,
      "metadata": {
        "id": "glwpOY1vG7OT"
      },
      "outputs": [],
      "source": [
        "class DataExplorer:\n",
        "    @staticmethod\n",
        "    def explore_data(data):\n",
        "        print('\\nHEADER\\n--------------------------------------------------------------------------------------------------------------------------------------------')\n",
        "        print(data.head().T)\n",
        "        print('\\n\\nDATA DESCRIPTION\\n--------------------------------------------------------------------------------------------------------------------------------------------')\n",
        "        print(data.describe().T)\n",
        "        print('\\n\\nDATA INFORMATION\\n--------------------------------------------------------------------------------------------------------------------------------------------')\n",
        "        print(data.info())\n",
        "        print('\\n\\nDATA FREQUENCY\\n--------------------------------------------------------------------------------------------------------------------------------------------')\n",
        "        print(data.nunique())\n",
        "\n",
        "    @staticmethod\n",
        "    def plot_categorical_distributions(data, columns, target):\n",
        "        figure, axes = plt.subplots(7,5, figsize = (20,28))\n",
        "        axes = axes.ravel()\n",
        "\n",
        "        for col, ax in zip(columns, axes):\n",
        "            sns.countplot(x = data[col], hue = target, ax = ax, palette = 'bright')\n",
        "            ax.set(title = f'{col}', xlabel = None)\n",
        "\n",
        "    @staticmethod\n",
        "    def plot_correlation_matrix(X_data, y_data):\n",
        "        data = X_data.join(y_data)\n",
        "        corr_matrix = data.corr(method = 'pearson', numeric_only = True)\n",
        "        plt.figure(figsize=(17, 10))\n",
        "        sns.heatmap(corr_matrix, annot=True, fmt=\".2f\", cmap='coolwarm', vmin=-1, vmax=1)\n",
        "        plt.title('Pearson correlation matrix')\n",
        "        plt.show()\n"
      ]
    },
    {
      "cell_type": "code",
      "execution_count": 109,
      "metadata": {},
      "outputs": [],
      "source": [
        "class StudentPerformanceModel:\n",
        "    def __init__(self, dataset_id):\n",
        "        self.dataset_id = dataset_id #declarando atributo\n",
        "        self.data = None #dataframe de def load_data\n",
        "        self.X_train, self.X_test, self.y_train, self.y_test = [None, None, None, None] #[None] * 4\n",
        "        self.pipeline = None #def build_pipeline\n",
        "\n",
        "    # Configurando cliente MLflow\n",
        "    #   self.client = MlflowClient(tracking_uri=\"http://127.0.0.1:5000\")\n",
        "    #   self.experiment_name = \"Student_Performance_Models\"\n",
        "        mlflow.set_tracking_uri(\"http://127.0.0.1:5000\")\n",
        "\n",
        "    # Crear experimento en MLflow\n",
        "        experiment_description = (\n",
        "            \"Experimento para el analisis y prediccion del rendimiento estudiantil usando varios modelos\"\n",
        "        )\n",
        "\n",
        "        experiment_tags = {\n",
        "            \"project_name\": \"student-performance-analysis\",\n",
        "            \"team\": \"Equipo39-MLOps\",\n",
        "            \"mlflow.note.content\": experiment_description,\n",
        "        }\n",
        "        \n",
        "        #SP_experiment = self.client.create_experiment(name=\"TEST1\", tags=experiment_tags)\n",
        "\n",
        "        # Nos aseguramos de tener un solo experimento con el nombre \"Student_Performance_Models\"\n",
        "        #experiment = mlflow.get_experiment_by_name(self.experiment_name)\n",
        "        #if experiment is None:  \n",
        "        #    self.experiment_id = self.client.create_experiment(self.experiment_name, tags=experiment_tags)\n",
        "        #else:\n",
        "        #    self.experiment_id = experiment.experiment_id\n",
        "        \n",
        "        #mlflow.set_tracking_uri(\"http://127.0.0.1:5000\")\n",
        "        Student_Performance_experiment = mlflow.set_experiment(\"TEST7\")\n",
        "\n",
        "        #mlflow.set_tags(experiment_tags)\n",
        "\n",
        "    def load_data(self):\n",
        "        fetched_data = fetch_ucirepo(id=self.dataset_id) \n",
        "        self.data = pd.concat([fetched_data.data.features, fetched_data.data.targets], axis=1)\n",
        "\n",
        "        column_names = ['Student Age', 'Sex', 'Graduated High-school Type', 'Scholarship Type', 'Additional Work',\n",
        "                        'Regular Artistic/Sports Activity', 'Do you have a Partner', 'Total Salary', 'Transportation',\n",
        "                        'Accommodation in Cyprus', 'Mothers Education', 'Fathers Education', 'Number of Siblings',\n",
        "                        'Parental Status', 'Mothers Occupation', 'Fathers Occupation', 'Weekly Study Hours',\n",
        "                        'Reading Frequency (Non-Scientific)', 'Reading Frequency (Scientific)', 'Attendance to Seminars',\n",
        "                        'Impact on Success', 'Attendance to Classes', 'Preparation to Midterm 1', 'Preparation to Midterm 2',\n",
        "                        'Taking Notes in Classes', 'Listening in Classes', 'Discussion Improves Success', 'Flip-Classroom',\n",
        "                        'Cumulative GPA Last Semester', 'Expected GPA at Graduation', 'COURSE ID', 'OUTPUT Grade']\n",
        "        self.data.columns = column_names\n",
        "\n",
        "        return self\n",
        "\n",
        "    def preprocess_data(self):\n",
        "        # Definimos X e y\n",
        "        self.X = self.data.drop('OUTPUT Grade', axis=1)\n",
        "        self.y = self.data['OUTPUT Grade']\n",
        "\n",
        "        # Dividimos en conjuntos de entrenamiento y prueba\n",
        "        self.X_train, self.X_test, self.y_train, self.y_test = train_test_split(self.X, self.y, test_size=0.3, stratify=self.y, random_state=0)\n",
        "\n",
        "        self.X_val, self.X_test, self.y_val, self.y_test = train_test_split(self.X_test, self.y_test, test_size=0.5, stratify=self.y_test, random_state=1)\n",
        "\n",
        "        print(\"Division de datos completada\")\n",
        "        print(\"\")\n",
        "        print(\"Conjunto de entrenamiento:\", self.X_train.shape, self.y_train.shape)\n",
        "        print(\"Conjunto de validacion:\", self.X_val.shape, self.y_val.shape)\n",
        "        print(\"Conjunto de prueba:\", self.X_test.shape, self.y_test.shape)\n",
        "        return self\n",
        "\n",
        "    def encode_target(self):\n",
        "        # Codificando la variable objetivo (OUTPUT Grade)\n",
        "        self.label_encoder = LabelEncoder()\n",
        "        self.y_train = self.label_encoder.fit_transform(self.y_train)\n",
        "        self.y_val = self.label_encoder.transform(self.y_val)\n",
        "        self.y_test = self.label_encoder.transform(self.y_test)\n",
        "        return self\n",
        "\n",
        "    def build_pipeline(self):\n",
        "        # Variables categoricas\n",
        "        catNOM_pipeline = Pipeline(steps=[('OneHot', OneHotEncoder(drop='first', sparse_output=False, handle_unknown='ignore'))])\n",
        "        catORD_pipeline = Pipeline(steps=[('Ordinal', OrdinalEncoder())])\n",
        "\n",
        "        catNOM_pipeline_nombres = ['Sex', 'Graduated High-school Type',\n",
        "                'Scholarship Type', 'Additional Work', 'Regular Artistic/Sports Activity',\n",
        "                'Do you have a Partner',  'Transportation',\n",
        "                'Accommodation in Cyprus', 'Mothers Education', 'Fathers Education',\n",
        "                 'Parental Status', 'Mothers Occupation',\n",
        "                'Fathers Occupation',  'Attendance to Seminars', 'Impact on Success',\n",
        "                'Attendance to Classes', 'Preparation to Midterm 1', 'Preparation to Midterm 2',\n",
        "                'Taking Notes in Classes', 'Listening in Classes',\n",
        "                'Discussion Improves Success', 'Flip-Classroom',\n",
        "                ]\n",
        "        catORD_pipeline_nombres = ['Student Age', 'Number of Siblings', 'Total Salary', 'Weekly Study Hours', 'Reading Frequency (Non-Scientific)',\n",
        "                                   'Reading Frequency (Scientific)', 'Cumulative GPA Last Semester', 'Expected GPA at Graduation','Student Age',\n",
        "                                   'Number of Siblings']\n",
        "\n",
        "        # Combinar las transformaciones en un ColumnTransformer\n",
        "        self.pipeline = ColumnTransformer(transformers=[\n",
        "            ('OHE', catNOM_pipeline, catNOM_pipeline_nombres),\n",
        "            ('Ordinal', catORD_pipeline, catORD_pipeline_nombres)\n",
        "        ])\n",
        "        return self\n",
        "\n",
        "    def apply_pipeline(self):\n",
        "        # Aplicando el pipeline al conjunto de train, val y test\n",
        "        self.X_train = self.pipeline.fit_transform(self.X_train) #Ajustamos y transformamos solo con el conjunto de entrenamiento\n",
        "        self.X_val = self.pipeline.transform(self.X_val)\n",
        "        self.X_test = self.pipeline.transform(self.X_test)\n",
        "        return self\n",
        "\n",
        "    def train_model_knn(self, n_neighbors=5):\n",
        "        self.model = KNeighborsClassifier(n_neighbors=n_neighbors, algorithm = 'ball_tree', metric = 'manhattan', weights = 'distance')\n",
        "        self.model_name = \"KNN\"\n",
        "        self.model.fit(self.X_train, self.y_train)\n",
        "        return self\n",
        "\n",
        "    def train_model_dtree(self, max_depth=None, min_samples_split=2):\n",
        "        self.model = DecisionTreeClassifier(max_depth=max_depth, random_state=0)\n",
        "        self.model_name = \"Decision Tree\"\n",
        "        self.model.fit(self.X_train, self.y_train)\n",
        "        return self\n",
        "\n",
        "    def train_model_rf(self, n_estimators=100, max_depth=None):\n",
        "        self.model = RandomForestClassifier(n_estimators=n_estimators, max_depth=max_depth, random_state=0)\n",
        "        self.model_name = \"Random Forest\"\n",
        "        self.model.fit(self.X_train, self.y_train)\n",
        "        return self\n",
        "\n",
        "    def evaluate_model(self, evaluation_set=\"validation\"): #artifact_path=\"model_artifacts\"\n",
        "        # Validando corridas activas\n",
        "        active_run = mlflow.active_run()\n",
        "        if active_run is not None and active_run.info.lifecycle_stage == 'active':\n",
        "            mlflow.end_run()\n",
        "        # Elegir el conjunto de validacion o prueba\n",
        "        if evaluation_set == \"validation\":\n",
        "            X_temp = self.X_val\n",
        "            y_temp = self.y_val\n",
        "        else:\n",
        "            X_temp = self.X_test\n",
        "            y_temp = self.y_test\n",
        "\n",
        "        # Evaluar modelo \n",
        "        y_pred = self.model.predict(X_temp)#X_val\n",
        "\n",
        "        run_name = f\"{self.model_name} - {uuid.uuid4()}\"\n",
        "        \n",
        "        with mlflow.start_run(run_name=run_name):\n",
        "            accuracy = accuracy_score(y_temp, y_pred)\n",
        "            cm = confusion_matrix(y_temp, y_pred)\n",
        "            classification_rep = classification_report(y_temp, y_pred)\n",
        "\n",
        "            # Registrando metricas\n",
        "            mlflow.log_metric(\"accuracy\", accuracy)\n",
        "            mlflow.log_params(self.model.get_params())\n",
        "            mlflow.set_tag(\"Evaluation Set\", evaluation_set)\n",
        "            signature = infer_signature(X_temp, y_pred)\n",
        "            mlflow.sklearn.log_model(sk_model=self.model,\n",
        "                                     input_example=X_temp,\n",
        "                                     #artifact_path=artifact_path,\n",
        "                                     artifact_path=\"model\", \n",
        "                                     signature=signature\n",
        "                                     )\n",
        "        \n",
        "        print(f'\\n\\nEvaluation of {evaluation_set} set\\n')\n",
        "        ConfusionMatrixDisplay(confusion_matrix=cm).plot(cmap='Blues')\n",
        "        plt.show()\n",
        "        print(classification_rep)\n",
        "        return self\n",
        "\n",
        "    def cross_validate_model(self):\n",
        "        # Validacion cruzada\n",
        "        scores = cross_val_score(self.model, self.X_train, self.y_train, cv=5)\n",
        "        print(f\"Accuracy con validacion cruzada del conjunto de entrenamiento: {np.mean(scores):.4f}\")#calculamos el promedio el accuracy de los 5 folders\n",
        "        return self"
      ]
    },
    {
      "cell_type": "code",
      "execution_count": 110,
      "metadata": {
        "colab": {
          "base_uri": "https://localhost:8080/",
          "height": 1000
        },
        "id": "wkVNGhKP8DFS",
        "outputId": "746b268d-4f41-41e2-aa8c-7c960761c52c"
      },
      "outputs": [
        {
          "name": "stdout",
          "output_type": "stream",
          "text": [
            "Division de datos completada\n",
            "\n",
            "Conjunto de entrenamiento: (101, 31) (101,)\n",
            "Conjunto de validacion: (22, 31) (22,)\n",
            "Conjunto de prueba: (22, 31) (22,)\n"
          ]
        },
        {
          "name": "stderr",
          "output_type": "stream",
          "text": [
            "c:\\Users\\User\\AppData\\Local\\Programs\\Python\\Python310\\lib\\site-packages\\sklearn\\preprocessing\\_encoders.py:228: UserWarning: Found unknown categories in columns [11] during transform. These unknown categories will be encoded as all zeros\n",
            "  warnings.warn(\n"
          ]
        },
        {
          "data": {
            "application/vnd.jupyter.widget-view+json": {
              "model_id": "ac830fcf8ec64082a3a99e1bdf06d1b4",
              "version_major": 2,
              "version_minor": 0
            },
            "text/plain": [
              "Downloading artifacts:   0%|          | 0/7 [00:00<?, ?it/s]"
            ]
          },
          "metadata": {},
          "output_type": "display_data"
        },
        {
          "name": "stderr",
          "output_type": "stream",
          "text": [
            "2024/10/18 13:52:44 INFO mlflow.tracking._tracking_service.client: 🏃 View run Decision Tree - b590f391-ac28-4dfa-a1e2-bc0087b7c153 at: http://127.0.0.1:5000/#/experiments/303507848156619236/runs/7c11a332907c49a79bea42c44ae4403a.\n",
            "2024/10/18 13:52:44 INFO mlflow.tracking._tracking_service.client: 🧪 View experiment at: http://127.0.0.1:5000/#/experiments/303507848156619236.\n"
          ]
        },
        {
          "name": "stdout",
          "output_type": "stream",
          "text": [
            "\n",
            "\n",
            "Evaluation of test set\n",
            "\n"
          ]
        },
        {
          "data": {
            "image/png": "[encoded data removed]",
            "text/plain": [
              "<Figure size 640x480 with 2 Axes>"
            ]
          },
          "metadata": {},
          "output_type": "display_data"
        },
        {
          "name": "stdout",
          "output_type": "stream",
          "text": [
            "              precision    recall  f1-score   support\n",
            "\n",
            "           0       0.00      0.00      0.00         2\n",
            "           1       0.00      0.00      0.00         5\n",
            "           2       0.25      0.33      0.29         3\n",
            "           3       0.00      0.00      0.00         3\n",
            "           4       0.25      0.50      0.33         2\n",
            "           5       0.33      0.50      0.40         2\n",
            "           6       0.50      0.50      0.50         2\n",
            "           7       0.25      0.33      0.29         3\n",
            "\n",
            "    accuracy                           0.23        22\n",
            "   macro avg       0.20      0.27      0.23        22\n",
            "weighted avg       0.17      0.23      0.19        22\n",
            "\n",
            "Accuracy con validacion cruzada del conjunto de entrenamiento: 0.1086\n"
          ]
        },
        {
          "data": {
            "text/plain": [
              "<__main__.StudentPerformanceModel at 0x1fd04882ad0>"
            ]
          },
          "execution_count": 110,
          "metadata": {},
          "output_type": "execute_result"
        }
      ],
      "source": [
        "model = StudentPerformanceModel(dataset_id=856)\n",
        "model.load_data()\n",
        "model.preprocess_data()\n",
        "\n",
        "# EDA\n",
        "#DataExplorer.explore_data(model.data) # def explore_data(data):\n",
        "#DataExplorer.plot_correlation_matrix(model.X_train, model.y_train) # def plot_correlation_matrix(X_data, y_data):\n",
        "#DataExplorer.plot_categorical_distributions(model.X_train, model.data.columns[:-1], model.y_train) # def plot_categorical_distributions(data, columns, target)\n",
        "\n",
        "# Modelling and processing\n",
        "model.encode_target().build_pipeline().apply_pipeline().train_model_dtree().evaluate_model(\"test\").cross_validate_model()"
      ]
    },
    {
      "cell_type": "markdown",
      "metadata": {},
      "source": [
        "# Pruebas en caso de querer revisar la informacion de los experimentos o perder la conexion"
      ]
    },
    {
      "cell_type": "code",
      "execution_count": 88,
      "metadata": {},
      "outputs": [
        {
          "name": "stdout",
          "output_type": "stream",
          "text": [
            "\n",
            "Todos los experimentos:\n",
            "ID: 303507848156619236, Nombre: TEST7, Lifecycle Stage: active\n",
            "ID: 783596644566746721, Nombre: Test Connection2, Lifecycle Stage: active\n",
            "ID: 888609833316324283, Nombre: Apple_Models, Lifecycle Stage: active\n",
            "ID: 471557891676881090, Nombre: /wine-quality, Lifecycle Stage: active\n",
            "ID: 638346284818800958, Nombre: MLflow Quickstart, Lifecycle Stage: active\n",
            "ID: 0, Nombre: Default, Lifecycle Stage: active\n",
            "\n",
            "No se encontraron experimentos con el tag 'student-performance-analysis'\n",
            "\n",
            "Detalles del experimento 'TEST7':\n",
            "<Experiment: artifact_location='mlflow-artifacts:/303507848156619236', creation_time=1729270461093, experiment_id='303507848156619236', last_update_time=1729270461093, lifecycle_stage='active', name='TEST7', tags={}>\n"
          ]
        }
      ],
      "source": [
        "from pprint import pprint\n",
        "\n",
        "mlflow.set_tracking_uri(\"http://127.0.0.1:5000\")\n",
        "client = MlflowClient()\n",
        "\n",
        "# Buscando todos los experimentos que pudieramos tener\n",
        "all_experiments = client.search_experiments()\n",
        "\n",
        "# Imprimiendo todos los experimentos\n",
        "print(\"\\nTodos los experimentos:\")\n",
        "for experiment in all_experiments:\n",
        "    print(f\"ID: {experiment.experiment_id}, Nombre: {experiment.name}, Lifecycle Stage: {experiment.lifecycle_stage}\")\n",
        "\n",
        "# Filtrar por el project_name \n",
        "experiments_with_tag = client.search_experiments(\n",
        "    filter_string=\"tags.`project_name` = 'student-performance-analysis'\"\n",
        ")\n",
        "\n",
        "# Imprimiendo la informacion del experimento filtrado\n",
        "if experiments_with_tag:\n",
        "    print(\"\\nExperimentos con el tag 'student-performance-analysis':\")\n",
        "    for exp in experiments_with_tag:\n",
        "        pprint(exp)\n",
        "else:\n",
        "    print(\"\\nNo se encontraron experimentos con el tag 'student-performance-analysis'\")\n",
        "\n",
        "#________________________________________________________________________________________________________________________________-\n",
        "# Filtrando por nombre de experimento\n",
        "experiment_name_to_search = \"TEST7\"  # Nombre del experimento\n",
        "\n",
        "experiment_by_name = [\n",
        "    experiment for experiment in all_experiments if experiment.name == experiment_name_to_search\n",
        "]\n",
        "\n",
        "# Informacion del experimento buscado\n",
        "if experiment_by_name:\n",
        "    print(f\"\\nDetalles del experimento '{experiment_name_to_search}':\")\n",
        "    pprint(experiment_by_name[0])\n",
        "else:\n",
        "    print(f\"\\nNo se encontro ningún experimento con nombre '{experiment_name_to_search}'\")"
      ]
    },
    {
      "cell_type": "code",
      "execution_count": null,
      "metadata": {},
      "outputs": [],
      "source": [
        "import mlflow\n",
        "logged_model = 'runs:/873573f266714ab0aefb8d38902ebbfb/model'\n",
        "\n",
        "# Load model as a PyFuncModel.\n",
        "loaded_model = mlflow.pyfunc.load_model(logged_model)\n",
        "\n",
        "# Predict on a Pandas DataFrame\n",
        "import pandas as pd\n",
        "loaded_model.predict(pd.DataFrame(data))"
      ]
    },
    {
      "cell_type": "code",
      "execution_count": 57,
      "metadata": {},
      "outputs": [
        {
          "name": "stderr",
          "output_type": "stream",
          "text": [
            "2024/10/18 10:03:34 INFO mlflow.tracking.fluent: Experiment with name 'Test Connection2' does not exist. Creating a new experiment.\n",
            "2024/10/18 10:03:34 INFO mlflow.tracking._tracking_service.client: 🏃 View run Test Run at: http://127.0.0.1:5000/#/experiments/783596644566746721/runs/e298c8fad461467a9674318bcf63e3de.\n",
            "2024/10/18 10:03:34 INFO mlflow.tracking._tracking_service.client: 🧪 View experiment at: http://127.0.0.1:5000/#/experiments/783596644566746721.\n"
          ]
        },
        {
          "name": "stdout",
          "output_type": "stream",
          "text": [
            "Test run creado exitosamente!\n"
          ]
        }
      ],
      "source": [
        "import mlflow\n",
        "\n",
        "mlflow.set_tracking_uri(\"http://127.0.0.1:5000\")\n",
        "\n",
        "# Inicia un experimento de prueba\n",
        "mlflow.set_experiment(\"Test Connection2\")\n",
        "\n",
        "with mlflow.start_run(run_name=\"Test Run\"):\n",
        "    mlflow.log_param(\"param1\", 5)\n",
        "    mlflow.log_metric(\"metric1\", 0.89)\n",
        "    print(\"Test run creado exitosamente!\")"
      ]
    }
  ],
  "metadata": {
    "colab": {
      "provenance": []
    },
    "kernelspec": {
      "display_name": "Python 3",
      "name": "python3"
    },
    "language_info": {
      "codemirror_mode": {
        "name": "ipython",
        "version": 3
      },
      "file_extension": ".py",
      "mimetype": "text/x-python",
      "name": "python",
      "nbconvert_exporter": "python",
      "pygments_lexer": "ipython3",
      "version": "3.10.10"
    }
  },
  "nbformat": 4,
  "nbformat_minor": 0
}
